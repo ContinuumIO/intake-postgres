{
 "cells": [
  {
   "cell_type": "markdown",
   "metadata": {},
   "source": [
    "# Intake-Postgres Plugin: PostGIS Demo\n",
    "\n",
    "The following notebook demonstrates PostGIS functionality using the _Intake-Postgres_ plugin. Its purpose is to showcase a variety of scenarios in which an _Intake_ user may want to query their PostgreSQL-based relational datasets.\n",
    "\n",
    "PostGIS functionality is to be exercised with the following geometry objects: `POINT, LINESTRING, POLYGON, MULTIPOINT, MULTILINESTRING, MULTIPOLYGON`.\n",
    "\n",
    "\n",
    "## Setup\n",
    "1. With [Docker installed](https://www.docker.com/community-edition), execute:\n",
    "    ```\n",
    "    docker run -d -p 5432:5432 --name intake-postgres-db mdillon/postgis:9.6-alpine\n",
    "    ```\n",
    "    All subsequent `docker run` commands will start containers from this image.\n",
    "\n",
    "1. In the same conda environment as this notebook, install `pandas`, `sqlalchemy`, `psycopg2`, `shapely`, and (optionally) `postgresql`:\n",
    "    ```\n",
    "    conda install pandas sqlalchemy psycopg2 shapely postgresql\n",
    "    ```\n",
    "    The `postgresql` package is only for the command-line client library, so that we can verify that results were written to the database (externally from our programs).\n",
    "\n",
    "1. Finally, install the _intake-postgres_ plugin:\n",
    "    ```\n",
    "    conda install -c intake intake-postgres\n",
    "    ```\n",
    "\n",
    "\n",
    "## Loading the data\n",
    "\n",
    "Because _Intake_ only supports reading the data, we need to insert the data into our databases by another means. The general approach below relies on inserting the data from a GeoJSON into separate tables.\n",
    "\n",
    "The code (below) begins by importing the necessary modules:"
   ]
  },
  {
   "cell_type": "code",
   "execution_count": null,
   "metadata": {},
   "outputs": [],
   "source": [
    "from __future__ import print_function, absolute_import\n",
    "\n",
    "## For loading / creating test data\n",
    "import json\n",
    "import os\n",
    "import requests\n",
    "from shapely.geometry import (Point, MultiPoint,\n",
    "                              LineString, MultiLineString,\n",
    "                              Polygon, MultiPolygon)\n",
    "\n",
    "## For inserting test data\n",
    "import pandas as pd\n",
    "from sqlalchemy import create_engine\n",
    "\n",
    "## For using Intake\n",
    "from intake.catalog import Catalog\n",
    "\n",
    "## For data viz\n",
    "from shapely import wkt\n",
    "import numpy as np\n",
    "import bokeh.plotting as bp\n",
    "from bokeh.models import ColumnDataSource\n",
    "from bokeh.models import WMTSTileSource, HoverTool\n",
    "from bokeh.io import output_notebook\n",
    "output_notebook()\n",
    "\n",
    "%matplotlib inline"
   ]
  },
  {
   "cell_type": "markdown",
   "metadata": {},
   "source": [
    "Here we download the data, if it doesn't already exist:"
   ]
  },
  {
   "cell_type": "code",
   "execution_count": null,
   "metadata": {},
   "outputs": [],
   "source": [
    "%%time\n",
    "\n",
    "# Define download sources and destinations.\n",
    "url = 'https://hifld-dhs-gii.opendata.arcgis.com/datasets/e277657582f74ed78dc2a503eae7fa2e_0.geojson'\n",
    "fpath = 'fortune_500.geojson'\n",
    "\n",
    "# More about this dataset:\n",
    "# https://hifld-dhs-gii.opendata.arcgis.com/datasets/e277657582f74ed78dc2a503eae7fa2e_0\n",
    "\n",
    "# Do the data downloading\n",
    "if os.path.isfile(fpath):\n",
    "    print('{!r} already exists: skipping download.\\n'.format(fpath))\n",
    "else:\n",
    "    try:\n",
    "        print('Downloading data from {!r}...'.format(url))\n",
    "        response = requests.get(url)\n",
    "    except:\n",
    "        raise ValueError('Download error. Check internet connection and URL.')\n",
    "\n",
    "    try:\n",
    "        with open(fpath, 'wb') as fp:\n",
    "            print('Writing data...'.format(fpath))\n",
    "            fp.write(response.content)\n",
    "    except:\n",
    "        raise ValueError('File write error. Check destination file path and permissions')\n",
    "\n",
    "    print('Success: {!r}\\n'.format(fpath))"
   ]
  },
  {
   "cell_type": "markdown",
   "metadata": {},
   "source": [
    "Next, we load the data and save it to the database as PostGIS objects:"
   ]
  },
  {
   "cell_type": "code",
   "execution_count": null,
   "metadata": {
    "scrolled": false
   },
   "outputs": [],
   "source": [
    "%time\n",
    "\n",
    "import psycopg2\n",
    "conn = psycopg2.connect(host='localhost', dbname='postgres', user='postgres', port=5432)\n",
    "# conn.set_isolation_level(1)\n",
    "\n",
    "with open(fpath, 'r') as fp:\n",
    "    data = json.load(fp)\n",
    "\n",
    "cursor = conn.cursor()\n",
    "cursor.execute('drop table if exists fortune500')\n",
    "cursor.execute('create table fortune500 (location geometry(point, 4326), name text, address text, city text, state text, zip_code text, county text, directions text)')\n",
    "for feature in data['features']:\n",
    "    lon, lat = feature['geometry']['coordinates']\n",
    "    props = feature['properties']\n",
    "    zip_code, state, name, address, county, city, directions = props['ZIP'], props['STATE'], props['NAME'], props['ADDRESS'], props['COUNTY'], props['CITY'], props['DIRECTIONS']\n",
    "    cursor.execute('insert into fortune500 values (St_GeomFromText(%s), %s, %s, %s, %s, %s, %s, %s)',\n",
    "        ('SRID=4326;POINT({} {})'.format(lon, lat), name, address, city, state, zip_code, county, directions),\n",
    "    )\n",
    "conn.commit()\n",
    "conn.close()"
   ]
  },
  {
   "cell_type": "markdown",
   "metadata": {},
   "source": [
    "Verify the data was written, by connecting to the databases directly with the `psql` command-line tool:"
   ]
  },
  {
   "cell_type": "code",
   "execution_count": null,
   "metadata": {},
   "outputs": [],
   "source": [
    "# Save each query from the `psql` command as HTML\n",
    "!psql -h localhost -p 5432 -U postgres -q -H -c \"select * from fortune500 limit 5;\" > points.html\n",
    "\n",
    "# Display the HTML files\n",
    "from IPython.display import display, HTML\n",
    "display(HTML('points.html'))"
   ]
  },
  {
   "cell_type": "markdown",
   "metadata": {},
   "source": [
    "## Reading the data (with Intake-Postgres)"
   ]
  },
  {
   "cell_type": "markdown",
   "metadata": {},
   "source": [
    "Write out a __gis\\_catalog.yml__ file with the appropriate schema:"
   ]
  },
  {
   "cell_type": "code",
   "execution_count": null,
   "metadata": {},
   "outputs": [],
   "source": [
    "%%writefile gis_catalog.yml\n",
    "plugins:\n",
    "  source:\n",
    "    - module: intake_postgres\n",
    "\n",
    "sources:\n",
    "  fortune500:\n",
    "    driver: postgres\n",
    "    args:\n",
    "      uri: 'postgresql://postgres@localhost:5432/postgres'\n",
    "      sql_expr: |\n",
    "          select * from fortune500"
   ]
  },
  {
   "cell_type": "markdown",
   "metadata": {},
   "source": [
    "Access the catalog with Intake:"
   ]
  },
  {
   "cell_type": "code",
   "execution_count": null,
   "metadata": {},
   "outputs": [],
   "source": [
    "%time\n",
    "catalog = Catalog('gis_catalog.yml')\n",
    "catalog"
   ]
  },
  {
   "cell_type": "markdown",
   "metadata": {},
   "source": [
    "## Geometry (point) data\n",
    "\n",
    "Here we inspect the data source metadata, read the data, and visualize it."
   ]
  },
  {
   "cell_type": "code",
   "execution_count": null,
   "metadata": {},
   "outputs": [],
   "source": [
    "catalog.fortune500.discover()"
   ]
  },
  {
   "cell_type": "markdown",
   "metadata": {},
   "source": [
    "Read the data from the source:"
   ]
  },
  {
   "cell_type": "code",
   "execution_count": null,
   "metadata": {},
   "outputs": [],
   "source": [
    "%time\n",
    "points = catalog.fortune500.read()\n",
    "points.tail()"
   ]
  },
  {
   "cell_type": "markdown",
   "metadata": {},
   "source": [
    "Next, we prepare the data for visualization. With the help of `numpy` and `shapely`, we can convert latitude / longitude coordinates into mercator (UTM), and pass the mercator coordinates to Bokeh for visualization:"
   ]
  },
  {
   "cell_type": "code",
   "execution_count": null,
   "metadata": {},
   "outputs": [],
   "source": [
    "%time\n",
    "\n",
    "# Earth's radius, in meters\n",
    "EARTH_RADIUS = 6378137.\n",
    "\n",
    "def lon_to_mercx(lon):\n",
    "    x = EARTH_RADIUS * np.radians(lon)\n",
    "    return x\n",
    "\n",
    "def lat_to_mercy(lon, lat):\n",
    "    x = lon_to_mercx(lon)\n",
    "    y = 180. / np.pi * np.log(np.tan(np.pi / 4. + lat * (np.pi / 180.) / 2.)) * x / lon\n",
    "    return y\n",
    "\n",
    "def wkt_to_x(pt):\n",
    "    return lon_to_mercx(wkt.loads(pt).x)\n",
    "\n",
    "def wkt_to_y(pt):\n",
    "    point = wkt.loads(pt)\n",
    "    return lat_to_mercy(point.x, point.y)\n",
    "\n",
    "points['y'] = np.vectorize(wkt_to_y)(points['location'].values)\n",
    "points['x'] = np.vectorize(wkt_to_x)(points['location'].values)\n",
    "points.tail()"
   ]
  },
  {
   "cell_type": "markdown",
   "metadata": {},
   "source": [
    "Next, we visualize the data interactively with `bokeh`:"
   ]
  },
  {
   "cell_type": "code",
   "execution_count": null,
   "metadata": {},
   "outputs": [],
   "source": [
    "points_source = ColumnDataSource(points)\n",
    "tilesource = WMTSTileSource(url='http://c.tile.openstreetmap.org/{Z}/{X}/{Y}.png')\n",
    "p = bp.figure(width=800)\n",
    "p.axis.visible = False\n",
    "p.add_tile(tilesource)\n",
    "hover_tool = HoverTool(tooltips=[('Name', '@name'), ('Address', '@address, @city, @state, @zip_code')])\n",
    "p.add_tools(hover_tool)\n",
    "p.circle('x', 'y', source=points_source, size=10, fill_alpha=.2)\n",
    "bp.show(p)"
   ]
  },
  {
   "cell_type": "code",
   "execution_count": null,
   "metadata": {},
   "outputs": [],
   "source": []
  }
 ],
 "metadata": {
  "kernelspec": {
   "display_name": "Python 3",
   "language": "python",
   "name": "python3"
  },
  "language_info": {
   "codemirror_mode": {
    "name": "ipython",
    "version": 3
   },
   "file_extension": ".py",
   "mimetype": "text/x-python",
   "name": "python",
   "nbconvert_exporter": "python",
   "pygments_lexer": "ipython3",
   "version": "3.5.4"
  }
 },
 "nbformat": 4,
 "nbformat_minor": 2
}
