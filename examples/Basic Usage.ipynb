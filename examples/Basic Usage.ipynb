{
 "cells": [
  {
   "cell_type": "markdown",
   "metadata": {},
   "source": [
    "# Intake-Postgres Plugin: Basic Usage\n",
    "\n",
    "\n",
    "### Setup\n",
    "1. Start a PostgreSQL server. If Docker is installed, an easy way to do this is with the following command:\n",
    "    ```\n",
    "    docker run -p 5432:5432 mdillon/postgis:9.6-alpine\n",
    "    ```\n",
    "    Wait until the line _\"LOG:  database system is ready to accept connections\"_ appears.\n",
    "1. In the same conda environment as this notebook, install `pandas`, `sqlalchemy`, and `psycopg2`. Optionally, `postgresql` can also be installed (this is only the client library, not the database server):\n",
    "    ```\n",
    "    conda install pandas sqlalchemy psycopg2 postgres\n",
    "    ```\n",
    "1. Install the _intake-postgres_ plugin:\n",
    "    ```\n",
    "    conda install -c intake intake-postgres\n",
    "    ```\n",
    "\n",
    "### Basic Usage\n",
    "\n",
    "First, import the necessary modules:"
   ]
  },
  {
   "cell_type": "code",
   "execution_count": 1,
   "metadata": {},
   "outputs": [],
   "source": [
    "## For inserting test data\n",
    "import pandas as pd\n",
    "from sqlalchemy import create_engine\n",
    "\n",
    "## For using Intake\n",
    "from intake.catalog import Catalog"
   ]
  },
  {
   "cell_type": "markdown",
   "metadata": {},
   "source": [
    "Insert some data into database table:"
   ]
  },
  {
   "cell_type": "code",
   "execution_count": 2,
   "metadata": {},
   "outputs": [],
   "source": [
    "engine = create_engine('postgresql://postgres@localhost:5432/postgres')\n",
    "df = pd.DataFrame({'first_name': ['Joe', 'Cindy', 'Bob'],\n",
    "                   'last_name': ['Schmoe', 'Sherman', 'Bullock']},\n",
    "                 index=[1, 2, 3])\n",
    "df.to_sql('person', engine, if_exists='replace')"
   ]
  },
  {
   "cell_type": "markdown",
   "metadata": {},
   "source": [
    "Verify the data was written, by connecting to the database directly with the `psql` command-line tool:"
   ]
  },
  {
   "cell_type": "code",
   "execution_count": 3,
   "metadata": {},
   "outputs": [
    {
     "name": "stdout",
     "output_type": "stream",
     "text": [
      "You are connected to database \"postgres\" as user \"postgres\" on host \"localhost\" at port \"5432\".\r\n",
      "Null display is \"NULL\".\r\n",
      "Timing is on.\r\n",
      "Target width is 1000000000.\r\n",
      "Expanded display is used automatically.\r\n",
      "Pager usage is off.\r\n",
      " index | first_name | last_name \r\n",
      "-------+------------+-----------\r\n",
      "     1 | Joe        | Schmoe\r\n",
      "     2 | Cindy      | Sherman\r\n",
      "     3 | Bob        | Bullock\r\n",
      "(3 rows)\r\n",
      "\r\n",
      "Time: 0.644 ms\r\n"
     ]
    }
   ],
   "source": [
    "# Verify the data was written\n",
    "!psql -h localhost -U postgres -c 'select * from person;'"
   ]
  },
  {
   "cell_type": "markdown",
   "metadata": {},
   "source": [
    "Write out a __basic\\_catalog.yml__ file with the appropriate schema:"
   ]
  },
  {
   "cell_type": "code",
   "execution_count": 4,
   "metadata": {},
   "outputs": [
    {
     "name": "stdout",
     "output_type": "stream",
     "text": [
      "Overwriting basic_catalog.yml\n"
     ]
    }
   ],
   "source": [
    "%%writefile basic_catalog.yml\n",
    "plugins:\n",
    "  source:\n",
    "    - module: intake_postgres\n",
    "\n",
    "sources:\n",
    "  - name: people\n",
    "    driver: postgres\n",
    "    args:\n",
    "      uri: 'postgresql://postgres@localhost:5432/postgres'\n",
    "      sql_expr: 'select * from person'\n",
    "    \n",
    "  - name: last_names\n",
    "    driver: postgres\n",
    "    args:\n",
    "      uri: 'postgresql://postgres@localhost:5432/postgres'\n",
    "      sql_expr: 'select last_name from person'"
   ]
  },
  {
   "cell_type": "markdown",
   "metadata": {},
   "source": [
    "Access the catalog with Intake:"
   ]
  },
  {
   "cell_type": "code",
   "execution_count": 5,
   "metadata": {},
   "outputs": [
    {
     "data": {
      "text/plain": [
       "<intake.catalog.base.Catalog at 0x10617dba8>"
      ]
     },
     "execution_count": 5,
     "metadata": {},
     "output_type": "execute_result"
    }
   ],
   "source": [
    "catalog = Catalog('basic_catalog.yml')\n",
    "catalog"
   ]
  },
  {
   "cell_type": "markdown",
   "metadata": {},
   "source": [
    "Inspect the metadata about the sources (optional):"
   ]
  },
  {
   "cell_type": "code",
   "execution_count": 6,
   "metadata": {},
   "outputs": [
    {
     "data": {
      "text/plain": [
       "{'datashape': None,\n",
       " 'dtype': [('index', dtype('int64')),\n",
       "  ('first_name', dtype('O')),\n",
       "  ('last_name', dtype('O'))],\n",
       " 'npartitions': 1,\n",
       " 'shape': (3,)}"
      ]
     },
     "execution_count": 6,
     "metadata": {},
     "output_type": "execute_result"
    }
   ],
   "source": [
    "catalog['people'].get().discover()"
   ]
  },
  {
   "cell_type": "code",
   "execution_count": 7,
   "metadata": {},
   "outputs": [
    {
     "data": {
      "text/plain": [
       "{'datashape': None,\n",
       " 'dtype': [('last_name', dtype('O'))],\n",
       " 'npartitions': 1,\n",
       " 'shape': (3,)}"
      ]
     },
     "execution_count": 7,
     "metadata": {},
     "output_type": "execute_result"
    }
   ],
   "source": [
    "catalog['last_names'].get().discover()"
   ]
  },
  {
   "cell_type": "markdown",
   "metadata": {},
   "source": [
    "Read the data from the sources:"
   ]
  },
  {
   "cell_type": "code",
   "execution_count": 8,
   "metadata": {},
   "outputs": [
    {
     "data": {
      "text/html": [
       "<div>\n",
       "<style scoped>\n",
       "    .dataframe tbody tr th:only-of-type {\n",
       "        vertical-align: middle;\n",
       "    }\n",
       "\n",
       "    .dataframe tbody tr th {\n",
       "        vertical-align: top;\n",
       "    }\n",
       "\n",
       "    .dataframe thead th {\n",
       "        text-align: right;\n",
       "    }\n",
       "</style>\n",
       "<table border=\"1\" class=\"dataframe\">\n",
       "  <thead>\n",
       "    <tr style=\"text-align: right;\">\n",
       "      <th></th>\n",
       "      <th>index</th>\n",
       "      <th>first_name</th>\n",
       "      <th>last_name</th>\n",
       "    </tr>\n",
       "  </thead>\n",
       "  <tbody>\n",
       "    <tr>\n",
       "      <th>0</th>\n",
       "      <td>1</td>\n",
       "      <td>Joe</td>\n",
       "      <td>Schmoe</td>\n",
       "    </tr>\n",
       "    <tr>\n",
       "      <th>1</th>\n",
       "      <td>2</td>\n",
       "      <td>Cindy</td>\n",
       "      <td>Sherman</td>\n",
       "    </tr>\n",
       "    <tr>\n",
       "      <th>2</th>\n",
       "      <td>3</td>\n",
       "      <td>Bob</td>\n",
       "      <td>Bullock</td>\n",
       "    </tr>\n",
       "  </tbody>\n",
       "</table>\n",
       "</div>"
      ],
      "text/plain": [
       "   index first_name last_name\n",
       "0      1        Joe    Schmoe\n",
       "1      2      Cindy   Sherman\n",
       "2      3        Bob   Bullock"
      ]
     },
     "execution_count": 8,
     "metadata": {},
     "output_type": "execute_result"
    }
   ],
   "source": [
    "catalog['people'].get().read()"
   ]
  },
  {
   "cell_type": "code",
   "execution_count": 9,
   "metadata": {},
   "outputs": [
    {
     "data": {
      "text/html": [
       "<div>\n",
       "<style scoped>\n",
       "    .dataframe tbody tr th:only-of-type {\n",
       "        vertical-align: middle;\n",
       "    }\n",
       "\n",
       "    .dataframe tbody tr th {\n",
       "        vertical-align: top;\n",
       "    }\n",
       "\n",
       "    .dataframe thead th {\n",
       "        text-align: right;\n",
       "    }\n",
       "</style>\n",
       "<table border=\"1\" class=\"dataframe\">\n",
       "  <thead>\n",
       "    <tr style=\"text-align: right;\">\n",
       "      <th></th>\n",
       "      <th>last_name</th>\n",
       "    </tr>\n",
       "  </thead>\n",
       "  <tbody>\n",
       "    <tr>\n",
       "      <th>0</th>\n",
       "      <td>Schmoe</td>\n",
       "    </tr>\n",
       "    <tr>\n",
       "      <th>1</th>\n",
       "      <td>Sherman</td>\n",
       "    </tr>\n",
       "    <tr>\n",
       "      <th>2</th>\n",
       "      <td>Bullock</td>\n",
       "    </tr>\n",
       "  </tbody>\n",
       "</table>\n",
       "</div>"
      ],
      "text/plain": [
       "  last_name\n",
       "0    Schmoe\n",
       "1   Sherman\n",
       "2   Bullock"
      ]
     },
     "execution_count": 9,
     "metadata": {},
     "output_type": "execute_result"
    }
   ],
   "source": [
    "catalog['last_names'].get().read()"
   ]
  },
  {
   "cell_type": "code",
   "execution_count": null,
   "metadata": {},
   "outputs": [],
   "source": []
  }
 ],
 "metadata": {
  "kernelspec": {
   "display_name": "Python 3",
   "language": "python",
   "name": "python3"
  },
  "language_info": {
   "codemirror_mode": {
    "name": "ipython",
    "version": 3
   },
   "file_extension": ".py",
   "mimetype": "text/x-python",
   "name": "python",
   "nbconvert_exporter": "python",
   "pygments_lexer": "ipython3",
   "version": "3.6.3"
  }
 },
 "nbformat": 4,
 "nbformat_minor": 2
}
