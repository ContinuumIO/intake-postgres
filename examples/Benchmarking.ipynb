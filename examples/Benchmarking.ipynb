{
 "cells": [
  {
   "cell_type": "markdown",
   "metadata": {},
   "source": [
    "# Intake-Postgres Plugin: Benchmarking\n",
    "\n",
    "This notebook benchmarks different backends for the _intake-postgres_ plugin.\n",
    "Current benchmarks include Pandas (_pd.read\\_sql\\_query()_) and PostgresAdapter.\n",
    "\n",
    "### Setup\n",
    "1. Start a PostgreSQL server. If Docker is installed, an easy way to do this is with the following command:\n",
    "    ```\n",
    "    docker run --rm -p 5432:5432 mdillon/postgis:9.6-alpine\n",
    "    ```\n",
    "    Wait until the line _\"LOG:  database system is ready to accept connections\"_ appears.\n",
    "1. In the same conda environment as this notebook, install `pandas`, `sqlalchemy`, and `psycopg2`. Optionally, `postgresql` can also be installed (this is only the client library, not the database server):\n",
    "    ```\n",
    "    conda install pandas sqlalchemy psycopg2 postgres\n",
    "    ```\n",
    "1. Install the _intake-postgres_ plugin:\n",
    "    ```\n",
    "    conda install -c intake intake-postgres\n",
    "    ```\n",
    "1. For benchmarking *PostgresAdapter*, clone down the git repo:\n",
    "    ```\n",
    "    git clone https://github.com/ContinuumIO/PostgresAdapter.git\n",
    "    ```\n",
    "1. Buiild and install the *PostgresAdapter* conda package:\n",
    "    ```\n",
    "    conda build buildscripts/condarecipe --python 3.6\n",
    "    conda install --use-local postgresadapter\n",
    "    ```\n",
    "\n",
    "### Basic Usage\n",
    "\n",
    "First, import the necessary modules:"
   ]
  },
  {
   "cell_type": "code",
   "execution_count": null,
   "metadata": {
    "scrolled": true
   },
   "outputs": [],
   "source": [
    "## For inserting test data\n",
    "import pandas as pd\n",
    "from sqlalchemy import create_engine\n",
    "\n",
    "## For benchmarking\n",
    "import numpy as np\n",
    "import uuid\n",
    "import postgresadapter\n",
    "from postgresadapter import PostgresAdapter\n",
    "\n",
    "print('postgresadapter version:', postgresadapter.__version__)\n",
    "URI = 'postgresql://postgres@localhost:5432/postgres'"
   ]
  },
  {
   "cell_type": "markdown",
   "metadata": {},
   "source": [
    "Insert some data into some database tables:"
   ]
  },
  {
   "cell_type": "code",
   "execution_count": null,
   "metadata": {
    "scrolled": true
   },
   "outputs": [],
   "source": [
    "engine = create_engine(URI)\n",
    "\n",
    "def make_uuid(_1, _2):\n",
    "    return str(uuid.uuid4())\n",
    "\n",
    "# Ints\n",
    "df = pd.DataFrame({'random': np.random.randint(np.iinfo(np.int64).min, np.iinfo(np.int64).max, size=100000),\n",
    "                   'uuid': np.fromfunction(make_uuid, (100000, 1))},\n",
    "                  index=np.arange(100000))\n",
    "df.to_sql('integer', engine, if_exists='replace')"
   ]
  },
  {
   "cell_type": "markdown",
   "metadata": {},
   "source": [
    "Verify the data was written, by connecting to the database directly with the `psql` command-line tool:"
   ]
  },
  {
   "cell_type": "code",
   "execution_count": null,
   "metadata": {
    "scrolled": false
   },
   "outputs": [],
   "source": [
    "# Verify the data was written\n",
    "!psql -h localhost -U postgres -qt -c 'select * from integer offset 99990;'"
   ]
  },
  {
   "cell_type": "code",
   "execution_count": null,
   "metadata": {
    "scrolled": true
   },
   "outputs": [],
   "source": [
    "#engine = create_engine(URI)\n",
    "#df = pd.read_sql_table('integer', engine)\n",
    "%timeit pd.read_sql_query('select * from integer', engine)\n",
    "pd.read_sql_query('select * from integer', engine).tail()"
   ]
  },
  {
   "cell_type": "code",
   "execution_count": null,
   "metadata": {
    "scrolled": true
   },
   "outputs": [],
   "source": [
    "#adapter = PostgresAdapter(URI, table='integer')\n",
    "%timeit PostgresAdapter(URI, dataframe=True, query='select * from integer')\n",
    "%timeit adapter._to_dataframe()\n",
    "#print(adapter.field_names)\n",
    "#print(adapter.get_field_types())\n",
    "#print(adapter.num_records)\n",
    "adapter._to_dataframe().tail()"
   ]
  }
 ],
 "metadata": {
  "kernelspec": {
   "display_name": "Python 3",
   "language": "python",
   "name": "python3"
  },
  "language_info": {
   "codemirror_mode": {
    "name": "ipython",
    "version": 3
   },
   "file_extension": ".py",
   "mimetype": "text/x-python",
   "name": "python",
   "nbconvert_exporter": "python",
   "pygments_lexer": "ipython3",
   "version": "3.6.3"
  }
 },
 "nbformat": 4,
 "nbformat_minor": 2
}
