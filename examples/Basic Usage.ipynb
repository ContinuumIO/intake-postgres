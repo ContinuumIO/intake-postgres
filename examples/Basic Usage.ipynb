{
 "cells": [
  {
   "cell_type": "markdown",
   "metadata": {},
   "source": [
    "# Intake-Postgres Plugin: Basic Usage\n",
    "\n",
    "\n",
    "### Setup\n",
    "1. Start a PostgreSQL server. If Docker is installed, an easy way to do this is with the following command:\n",
    "    ```\n",
    "    docker run -p 5432:5432 mdillon/postgis:9.6-alpine\n",
    "    ```\n",
    "    Wait until the line _\"LOG:  database system is ready to accept connections\"_ appears.\n",
    "1. In the same conda environment as this notebook, install `pandas`, `sqlalchemy`, and `psycopg2`. Optionally, `postgresql` can also be installed (this is only the client library, not the database server):\n",
    "    ```\n",
    "    conda install pandas sqlalchemy psycopg2 postgres\n",
    "    ```"
   ]
  },
  {
   "cell_type": "code",
   "execution_count": 1,
   "metadata": {},
   "outputs": [],
   "source": [
    "import pandas as pd\n",
    "from sqlalchemy import create_engine\n",
    "\n",
    "# Insert some data into database table\n",
    "engine = create_engine('postgresql://postgres@localhost:5432/postgres')\n",
    "df = pd.DataFrame({'id': [1, 2, 3],\n",
    "                   'first_name': ['Joe', 'Cindy', 'Bob'],\n",
    "                   'last_name': ['Schmoe', 'Sherman', 'Bullock']})\n",
    "df.to_sql('person', engine, index=False)"
   ]
  },
  {
   "cell_type": "code",
   "execution_count": 2,
   "metadata": {},
   "outputs": [
    {
     "name": "stdout",
     "output_type": "stream",
     "text": [
      "You are connected to database \"postgres\" as user \"postgres\" on host \"localhost\" at port \"5432\".\r\n",
      "Null display is \"NULL\".\r\n",
      "Timing is on.\r\n",
      "Target width is 1000000000.\r\n",
      "Expanded display is used automatically.\r\n",
      "Pager usage is off.\r\n",
      " first_name | id | last_name \r\n",
      "------------+----+-----------\r\n",
      " Joe        |  1 | Schmoe\r\n",
      " Cindy      |  2 | Sherman\r\n",
      " Bob        |  3 | Bullock\r\n",
      "(3 rows)\r\n",
      "\r\n",
      "Time: 0.983 ms\r\n"
     ]
    }
   ],
   "source": [
    "# Verify the data was written\n",
    "!psql -h localhost -U postgres -c 'select * from person;'"
   ]
  },
  {
   "cell_type": "code",
   "execution_count": null,
   "metadata": {},
   "outputs": [],
   "source": []
  }
 ],
 "metadata": {
  "kernelspec": {
   "display_name": "Python 3",
   "language": "python",
   "name": "python3"
  },
  "language_info": {
   "codemirror_mode": {
    "name": "ipython",
    "version": 3
   },
   "file_extension": ".py",
   "mimetype": "text/x-python",
   "name": "python",
   "nbconvert_exporter": "python",
   "pygments_lexer": "ipython3",
   "version": "3.6.3"
  }
 },
 "nbformat": 4,
 "nbformat_minor": 2
}
